{
  "nbformat": 4,
  "nbformat_minor": 0,
  "metadata": {
    "colab": {
      "provenance": []
    },
    "kernelspec": {
      "name": "python3",
      "display_name": "Python 3"
    },
    "language_info": {
      "name": "python"
    }
  },
  "cells": [
    {
      "cell_type": "code",
      "execution_count": 276,
      "metadata": {
        "id": "wZF03fV0_s-I"
      },
      "outputs": [],
      "source": [
        "import numpy as np\n",
        "import matplotlib.pyplot as plt\n",
        "import matplotlib.patches as mpatches\n",
        "import pandas as pd\n",
        "from sklearn.tree import DecisionTreeRegressor\n",
        "from collections import namedtuple\n",
        "from typing_extensions import NamedTuple\n",
        "import sympy\n",
        "import math\n",
        "import random\n",
        "\n",
        "np.random.seed(10)\n",
        "random.seed(100)"
      ]
    },
    {
      "cell_type": "markdown",
      "source": [
        "Design a tree based classification algorithm that takes a list of $[(x,y)]$ values and designs a decision tree with less than or greater than equal to   splits that approximates the data generation process.\n",
        "\n",
        "Here $x \\in \\mathbb{R}^d, y \\in \\mathbb{R}/ \\mathbb{N}$"
      ],
      "metadata": {
        "id": "Pn4gOjNKxw-Q"
      }
    },
    {
      "cell_type": "code",
      "source": [
        "class Node:\n",
        "\n",
        "    def __init__(self, data, initialized = False, median = 0, error = 0, dimension = 0,\n",
        "                 upper_bound = None, lower_bound = None, var = None, split_range = 20):\n",
        "\n",
        "        # data is a list of points of type Data\n",
        "\n",
        "        self.data = data\n",
        "        self.error = 0\n",
        "        self.dimension = dimension\n",
        "\n",
        "        if data != []:\n",
        "            self.state_dimension = len((self.data)[0].x)\n",
        "            self.split_range = split_range\n",
        "\n",
        "            if not initialized:\n",
        "\n",
        "                best_error = np.inf\n",
        "                error = 0\n",
        "                self.action = round(np.median([p.y for p in data]),2)\n",
        "\n",
        "                for dim in range(self.state_dimension):\n",
        "                    for p in data:\n",
        "                        error += np.abs(p.y - self.action)\n",
        "                    if error < best_error:\n",
        "                        self.dimension = dim\n",
        "                        self.upper_bound = np.max([p.x[dim] for p in data])\n",
        "                        self.lower_bound = np.min([p.x[dim] for p in data])\n",
        "                        self.var = (self.upper_bound - self.lower_bound + 1) / len(data)\n",
        "                        self.median = np.median([p.x[dim] for p in data])\n",
        "                        self.split_val = self.median\n",
        "                        self.error = error\n",
        "\n",
        "\n",
        "    def is_null_node(self):\n",
        "        return len(self.data) == 0\n",
        "\n",
        "    def calculate_split(self):\n",
        "\n",
        "        best_dimension = 0\n",
        "        best_reduction_in_error = 0\n",
        "        total_error = self.error\n",
        "        best_split_val = 0\n",
        "        best_left_node = None\n",
        "        best_right_node = None\n",
        "\n",
        "        if (len(self.data) != 0):\n",
        "            for dim in range(self.state_dimension):\n",
        "                lower_bound = np.min([p.x[dim] for p in self.data])\n",
        "                upper_bound = np.max([p.x[dim] for p in self.data])\n",
        "                var = (upper_bound - lower_bound + 1) / len(self.data)\n",
        "                split_list = np.linspace(lower_bound, upper_bound, self.split_range)\n",
        "\n",
        "                for split_val in split_list:\n",
        "\n",
        "                    left_data = []\n",
        "                    right_data = []\n",
        "\n",
        "                    for datapoint in self.data:\n",
        "                        if (datapoint.x[dim] < split_val):\n",
        "                            left_data.append(datapoint)\n",
        "                        else:\n",
        "                            right_data.append(datapoint)\n",
        "\n",
        "                    if left_data != [] and right_data != []:\n",
        "                        left_node = Node(left_data)\n",
        "                        right_node = Node(right_data)\n",
        "                        total_error = left_node.error + right_node.error\n",
        "                        reduction_in_error = self.error - total_error\n",
        "\n",
        "                        if reduction_in_error > best_reduction_in_error:\n",
        "                            self.dimension = dim\n",
        "                            self.split_val = split_val\n",
        "                            best_reduction_in_error = reduction_in_error\n",
        "                            best_split_val = split_val\n",
        "                            best_left_node = left_node\n",
        "                            best_right_node = right_node\n",
        "\n",
        "            if best_left_node == None:\n",
        "                print('Left node is empty')\n",
        "                return Node([]), Node([])\n",
        "\n",
        "            elif best_right_node == None:\n",
        "                print('Right node is empty')\n",
        "                return Node([]), Node([])\n",
        "\n",
        "        return best_left_node, best_right_node\n",
        "\n",
        "\n",
        "    def info(self):\n",
        "\n",
        "        print('Node information is given as following:')\n",
        "        print(f'{len(self.data)} is the number of data points analyzed in this dataset')\n",
        "        print(f'{self.dimension} is the selected dimension for the node')\n",
        "        print(f'{self.state_dimension} is the dimension of the state space')\n",
        "        print(f'{self.upper_bound} is the upper bound')\n",
        "        print(f'{self.lower_bound} is the lower bound')\n",
        "        print(f'{self.var} is the variance')\n",
        "        print(f'{self.median} if the median')\n",
        "\n",
        "    def __str__(self):\n",
        "\n",
        "        return f'{len(self.data)}: Number of points, all points in the {self.dimension} dimension'"
      ],
      "metadata": {
        "id": "4wYbZ3nR_EET"
      },
      "execution_count": 277,
      "outputs": []
    },
    {
      "cell_type": "code",
      "source": [
        "Data = namedtuple('data', ['x', 'y'])\n",
        "point = Data(np.random.randn(5), 1)\n",
        "print(point.x, point.y)"
      ],
      "metadata": {
        "colab": {
          "base_uri": "https://localhost:8080/"
        },
        "outputId": "cc950515-5392-4ce2-927e-747ed4845169",
        "id": "7BK4zEq3tEHb"
      },
      "execution_count": 278,
      "outputs": [
        {
          "output_type": "stream",
          "name": "stdout",
          "text": [
            "[ 1.3315865   0.71527897 -1.54540029 -0.00838385  0.62133597] 1\n"
          ]
        }
      ]
    },
    {
      "cell_type": "code",
      "source": [
        "def generate_data(size, dimension, f):\n",
        "\n",
        "    data = []\n",
        "    for i in range(size):\n",
        "        x = np.random.randn(dimension)\n",
        "        y = f(x)\n",
        "        datapoint = Data(x,y)\n",
        "        data.append(datapoint)\n",
        "    return data\n",
        "\n",
        "def generate_grid_data(x_size, y_size,\n",
        "                       num_x = None, num_y = None,\n",
        "                       goal=[]):\n",
        "    '''\n",
        "    Actions are [0,1,2,3]\n",
        "    0 : Right\n",
        "    1 : Up\n",
        "    2: Left\n",
        "    3: Down\n",
        "    '''\n",
        "    data = []\n",
        "\n",
        "    if len(goal) == 0:\n",
        "        goal = np.array([x_size-1, y_size-1])\n",
        "    if num_x == None:\n",
        "        num_x = x_size\n",
        "    if num_y == None:\n",
        "        num_y = y_size\n",
        "\n",
        "    for x in np.linspace(0, x_size, num_x):\n",
        "        for y in np.linspace(0, y_size, num_y):\n",
        "            z = grid_eval(np.array([x,y]), x_size, y_size, goal)\n",
        "            datapoint = Data(np.array([x,y]), z)\n",
        "            data.append(datapoint)\n",
        "    return data\n",
        "\n",
        "def grid_eval(x, grid_x, grid_y, goal):\n",
        "\n",
        "    # [0,1,2,3] denote the list of possible actions\n",
        "    # 0 is right, 1 is up, 2 is left, and 3 is down\n",
        "\n",
        "    if x[0] > goal[0]:\n",
        "        return 2\n",
        "    elif x[1] > goal[1]:\n",
        "        return 3\n",
        "    elif x[0] < goal[0]:\n",
        "        return 0\n",
        "    elif x[1] < goal[1]:\n",
        "        return 1\n",
        "    else:\n",
        "        return 1\n",
        "\n",
        "\n",
        "def generate_assymetric_data(size, f,\n",
        "                             new_mean=10, new_sigma=2):\n",
        "\n",
        "    data = []\n",
        "    for i in range(size):\n",
        "        x_1 = np.random.randn(1)\n",
        "        x_new = (np.random.randn(1) + new_mean) * new_sigma\n",
        "        x = list(x_1) + list(x_new)\n",
        "        y = f(x)\n",
        "        datapoint = Data(x,y)\n",
        "        data.append(datapoint)\n",
        "\n",
        "    return data\n",
        "\n",
        "def f(x, lam = 1.0):\n",
        "    return np.exp(lam * np.sum(x)) / (1 + np.exp(lam * np.sum(x)))\n",
        "\n",
        "def g(x):\n",
        "    return math.floor(x) % 3"
      ],
      "metadata": {
        "id": "gcVjB2KDtSmM"
      },
      "execution_count": 279,
      "outputs": []
    },
    {
      "cell_type": "code",
      "source": [
        "SIZE = 100\n",
        "DEPTH = 3\n",
        "#DEPTH_RANGE = np.arange(3,10,2)\n",
        "#depth_to_error = {}\n",
        "\n",
        "data = generate_grid_data(10,10)\n",
        "n = Node(data)\n",
        "#data"
      ],
      "metadata": {
        "id": "s1RX0sD3tYzr"
      },
      "execution_count": 280,
      "outputs": []
    },
    {
      "cell_type": "code",
      "source": [
        "n.calculate_split()\n",
        "n.info()\n",
        "print(n)"
      ],
      "metadata": {
        "colab": {
          "base_uri": "https://localhost:8080/"
        },
        "id": "vqJnDlDwuYoT",
        "outputId": "c61867af-1b46-4f39-c2b6-5e6728863ef2"
      },
      "execution_count": 281,
      "outputs": [
        {
          "output_type": "stream",
          "name": "stdout",
          "text": [
            "Node information is given as following:\n",
            "100 is the number of data points analyzed in this dataset\n",
            "1 is the selected dimension for the node\n",
            "2 is the dimension of the state space\n",
            "10.0 is the upper bound\n",
            "0.0 is the lower bound\n",
            "0.11 is the variance\n",
            "5.0 if the median\n",
            "100: Number of points, all points in the 1 dimension\n"
          ]
        }
      ]
    },
    {
      "cell_type": "code",
      "source": [
        "class Tree:\n",
        "\n",
        "    def __init__(self, head, max_depth, curr_depth=1):\n",
        "        self.head = head\n",
        "        self.curr_depth = curr_depth\n",
        "        self.max_depth = max_depth\n",
        "        if head.data != []:\n",
        "            self.left = Tree(Node([]), max_depth, self.curr_depth+1)\n",
        "            self.right = Tree(Node([]), max_depth, self.curr_depth+1)\n",
        "\n",
        "    def build_tree(self):\n",
        "\n",
        "        if self.curr_depth < self.max_depth:\n",
        "\n",
        "            left_node, right_node = self.head.calculate_split()\n",
        "\n",
        "            if (left_node == None) or (right_node == None):\n",
        "                print(f'Tree pruned at {self.curr_depth}')\n",
        "                # All NULL nodes have head to be given by Node([])\n",
        "                self.left = Tree(Node([]), self.max_depth, curr_depth = self.curr_depth+1)\n",
        "                self.right = Tree(Node([]), self.max_depth, curr_depth = self.curr_depth+1)\n",
        "                return\n",
        "\n",
        "            self.left = Tree(left_node, self.max_depth, self.curr_depth + 1)\n",
        "            self.right = Tree(right_node, self.max_depth, self.curr_depth + 1)\n",
        "\n",
        "            self.left.build_tree()\n",
        "            self.right.build_tree()\n",
        "\n",
        "        else:\n",
        "            self.left = Tree(Node([]), self.max_depth, curr_depth = self.max_depth+1)\n",
        "            self.right = Tree(Node([]), self.max_depth, curr_depth = self.max_depth+1)\n",
        "\n",
        "\n",
        "    def print_tree(self):\n",
        "\n",
        "        if len(self.head.data) != 0:\n",
        "            print(f'{self.head.dimension}th dimension < {self.head.split_val}, depth {self.curr_depth}, action {self.head.action}')\n",
        "\n",
        "            if len(self.left.head.data) != 0:\n",
        "                print('Left node being printed')\n",
        "                self.left.print_tree()\n",
        "            if len(self.right.head.data) != 0:\n",
        "                print('Right node being printed')\n",
        "                self.right.print_tree()\n",
        "\n",
        "    def plot_splits(self, ax, action_color_dict,\n",
        "                    color_bounds = [-5, 5], plotted_colors = [],\n",
        "                    show_all_cuts = False, first_left_line = True):\n",
        "\n",
        "        # Plot the vertical line cuts depending on whether we show all the cuts\n",
        "        if show_all_cuts:\n",
        "            ax.axvline(x=color_bounds[0],\n",
        "                       color=(0, 0, 0),\n",
        "                       linestyle='-')\n",
        "            print(f'Plot line $x={color_bounds[0]}$')\n",
        "        else:\n",
        "            if (len(self.left.head.data) == 0) or (len(self.right.head.data) == 0) or self.curr_depth == self.max_depth:\n",
        "                ax.axvline(x=color_bounds[0],\n",
        "                           color=(0, 0, 0),\n",
        "                           linestyle='-')\n",
        "                print(f'Plot partition line $x={color_bounds[0]}$')\n",
        "\n",
        "        # Plot the colored regions\n",
        "        if (len(self.left.head.data) == 0) or (len(self.right.head.data) == 0) or (self.curr_depth == self.max_depth):\n",
        "            if self.head.action not in plotted_colors:\n",
        "\n",
        "                ax.axvspan(color_bounds[0], color_bounds[1], alpha=0.8,\n",
        "                           color = action_color_dict[self.head.action],\n",
        "                           label = f'Action = {self.head.action}')\n",
        "                plotted_colors.append(self.head.action)\n",
        "            else:\n",
        "                ax.axvspan(color_bounds[0], color_bounds[1], alpha=0.8,\n",
        "                        color = action_color_dict[self.head.action])\n",
        "\n",
        "            plt.legend()\n",
        "            ax.set_title('Splits of 1D space')\n",
        "\n",
        "        else:\n",
        "            (self.left).plot_splits(ax, action_color_dict,\n",
        "            [color_bounds[0], self.head.split_val], plotted_colors)\n",
        "\n",
        "            (self.right).plot_splits(ax, action_color_dict,\n",
        "            [self.head.split_val, color_bounds[1]], plotted_colors)\n",
        "\n",
        "    def plot_splits_2D(self, ax, action_color_dict,\n",
        "                       color_bounds = [[-0.05,5], [-0.05,5]],\n",
        "                       plotted_colors = [], prev_dim = 0):\n",
        "\n",
        "        if (len(self.head.data) == 0):\n",
        "            print(f'Empty node found')\n",
        "            return\n",
        "\n",
        "        #If we are at a last node plot the vertical/horizontal lines/regions\n",
        "        if (len(self.left.head.data) == 0) or (len(self.right.head.data) == 0):\n",
        "            if prev_dim == 0:\n",
        "                print(f'Plot partition line $x_{prev_dim} = {color_bounds[0][0]}$')\n",
        "                ax.plot([color_bounds[0][0], color_bounds[0][0]], color_bounds[1], color=(0,0,0), linestyle='-')\n",
        "\n",
        "                if self.head.action not in plotted_colors:\n",
        "\n",
        "                    ax.fill_between(color_bounds[0], min(color_bounds[1]),\n",
        "                                    max(color_bounds[1]), label = f'Action={self.head.action}',\n",
        "                                    alpha=0.5, color = action_color_dict[self.head.action])\n",
        "\n",
        "                    plotted_colors.append(self.head.action)\n",
        "                    print(f'We color the vertical region from {color_bounds[0][0]} to {color_bounds[0][1]} from ymin={color_bounds[1][0]} to ymax = {color_bounds[1][1]} with {self.head.action} color')\n",
        "                else:\n",
        "                    ax.fill_between(color_bounds[0], min(color_bounds[1]),\n",
        "                                    max(color_bounds[1]),\n",
        "                                    alpha=0.5, color = action_color_dict[self.head.action])\n",
        "                    print(f'We color the vertical region from {color_bounds[0][0]} to {color_bounds[0][1]} from ymin={color_bounds[1][0]} to ymax = {color_bounds[1][1]} with {self.head.action} color')\n",
        "\n",
        "            elif prev_dim == 1:\n",
        "                print(f'Plot partition line  x_{self.head.dimension} = {color_bounds[1][0]}')\n",
        "                ax.plot(color_bounds[0], [color_bounds[1][0], color_bounds[1][0]], color=(0,0,0), linestyle='-')\n",
        "\n",
        "                if self.head.action not in plotted_colors:\n",
        "                    ax.fill_between(color_bounds[0], min(color_bounds[1]),\n",
        "                                    max(color_bounds[1]), label = f'Action={self.head.action}',\n",
        "                                    alpha=0.5, color = action_color_dict[self.head.action])\n",
        "\n",
        "                    plotted_colors.append(self.head.action)\n",
        "                    print(f'We color the horizontal region from {color_bounds[1][0]} to {color_bounds[1][1]} from xmin={color_bounds[0][0]} to xmax = {color_bounds[0][1]} with {self.head.action} color')\n",
        "                else:\n",
        "                    ax.fill_between(color_bounds[0], min(color_bounds[1]),\n",
        "                                    max(color_bounds[1]), label = f'Action={self.head.action}',\n",
        "                                    alpha=0.5, color = action_color_dict[self.head.action])\n",
        "                    print(f'We color the horizontal region from {color_bounds[1][0]} to {color_bounds[1][1]} from xmin={color_bounds[0][0]} to xmax = {color_bounds[0][1]} with {self.head.action} color')\n",
        "            plt.legend()\n",
        "            ax.set_title('Splits of the 2D space')\n",
        "\n",
        "        # If we are not at the last node, decide further splits\n",
        "        elif self.head.dimension == 0:\n",
        "            (self.left).plot_splits_2D(ax, action_color_dict,\n",
        "                                       [[color_bounds[0][0], self.head.split_val],\n",
        "                                       [color_bounds[1][0], color_bounds[1][1]]],\n",
        "                                       plotted_colors, prev_dim = 0)\n",
        "\n",
        "            (self.right).plot_splits_2D(ax, action_color_dict,\n",
        "                                        [[self.head.split_val, color_bounds[0][1]],\n",
        "                                        [color_bounds[1][0], color_bounds[1][1]]],\n",
        "                                        plotted_colors, prev_dim = 0)\n",
        "\n",
        "        elif self.head.dimension == 1:\n",
        "\n",
        "            (self.left).plot_splits_2D(ax, action_color_dict,\n",
        "                                      [[color_bounds[0][0], color_bounds[0][1]],\n",
        "                                      [color_bounds[1][0], self.head.split_val]],\n",
        "                                      plotted_colors, prev_dim =1)\n",
        "\n",
        "            (self.right).plot_splits_2D(ax, action_color_dict,\n",
        "                                        [[color_bounds[0][0], color_bounds[0][1]],\n",
        "                                        [self.head.split_val, color_bounds[1][1]]],\n",
        "                                        plotted_colors, prev_dim =1)\n",
        "\n",
        "\n",
        "    def plot_tree(self, x, y, step_x, step_y, bounds = [-3, 3]):\n",
        "\n",
        "        # Plot current node\n",
        "        if len(self.head.data) != 0:\n",
        "\n",
        "            first_bound = f\"{round(bounds[0],2)} < $x_0$ < {round(bounds[0],2)}\"\n",
        "            action = f\"\\nAction = {self.head.action}\"\n",
        "            text = first_bound + action\n",
        "\n",
        "            plt.text(x, y, text,\n",
        "                    ha='center', va='center', bbox=dict(facecolor='lightblue', alpha=0.5, edgecolor='black', pad=0),\n",
        "                    fontsize=8, fontweight='bold', style='italic', fontfamily='serif')\n",
        "\n",
        "            plt.plot([x, x-step_x], [y, y-step_y], 'b-', linewidth=1)  # Arrow towards left child\n",
        "            plt.plot([x, x+step_x], [y, y-step_y], 'b-', linewidth=1)  # Arrow towards right child\n",
        "\n",
        "        # Plot left child\n",
        "            self.left.plot_tree(x - step_x, y - step_y, step_x/2, step_y, [bounds[0], round(self.head.split_val,2)])\n",
        "\n",
        "        # Plot right child\n",
        "            self.right.plot_tree(x + step_x, y - step_y, step_x/2, step_y, [round(self.head.split_val,2), bounds[1]])\n",
        "\n",
        "\n",
        "    def plot_tree_2D(self, x, y, step_x, step_y, bounds = [[-3, 3],[-3, 3]]):\n",
        "\n",
        "        # Plot current node\n",
        "        if len(self.head.data) == 0:\n",
        "            print('Zero node found!')\n",
        "        else:\n",
        "            first_bound = f\"{round(bounds[0][0],2)} < $x_0$ < {round(bounds[0][1],2)}\"\n",
        "            next_bound = f\"\\n{round(bounds[1][0],2)} < $x_1$ < {round(bounds[1][1],2)}\"\n",
        "            action = f\"\\nAction = {self.head.action}\"\n",
        "            text = first_bound + next_bound + action\n",
        "\n",
        "            plt.text(x, y, text,\n",
        "                     ha='center', va='center', bbox=dict(facecolor='lightblue', alpha=0.5, edgecolor='black', pad=0),\n",
        "                     fontsize=8, fontweight='bold', style='italic', fontfamily='serif')\n",
        "\n",
        "            plt.plot([x, x-step_x], [y, y-step_y], 'b-', linewidth=1)  # Arrow towards left child\n",
        "            plt.plot([x, x+step_x], [y, y-step_y], 'b-', linewidth=1)  # Arrow towards right child\n",
        "\n",
        "        if len(self.left.head.data) != 0 and len(self.right.head.data) != 0:\n",
        "            if self.head.dimension == 0:\n",
        "\n",
        "                self.left.plot_tree_2D(x-step_x, y-step_y, step_x/2, step_y,\n",
        "                                    [[bounds[0][0], round(self.head.split_val,2)], bounds[1]])\n",
        "\n",
        "                self.right.plot_tree_2D(x+step_x, y-step_y, step_x/2, step_y,\n",
        "                                    [[round(self.head.split_val,2), bounds[0][1]], bounds[1]])\n",
        "            elif self.head.dimension == 1:\n",
        "\n",
        "                self.left.plot_tree_2D(x-step_x, y-step_y, step_x/2, step_y,\n",
        "                                    [bounds[0],[bounds[1][0], round(self.head.split_val,2)]])\n",
        "\n",
        "                self.right.plot_tree_2D(x+step_x, y-step_y, step_x/2, step_y,\n",
        "                                    [bounds[0], [round(self.head.split_val,2), bounds[1][1]]])\n",
        "\n",
        "\n",
        "    def calculate_approximation_error(self, total = 0):\n",
        "\n",
        "        if len(self.left.head.data) == 0:\n",
        "            return self.head.error\n",
        "        else:\n",
        "            total += self.left.calculate_approximation_error(total)\n",
        "            total += self.right.calculate_approximation_error(total)\n",
        "        return total"
      ],
      "metadata": {
        "id": "VPlwDdLbsFU-"
      },
      "execution_count": 300,
      "outputs": []
    },
    {
      "cell_type": "markdown",
      "source": [
        "To Do:\n",
        "\n",
        "*   Work on 2D/ND versions of this"
      ],
      "metadata": {
        "id": "NgDk9-JL3tRW"
      }
    },
    {
      "cell_type": "code",
      "source": [
        "Data = namedtuple('data', ['x', 'y'])\n",
        "point = Data(np.random.randn(5), 1)\n",
        "print(point.x, point.y)"
      ],
      "metadata": {
        "colab": {
          "base_uri": "https://localhost:8080/"
        },
        "id": "TWjCEemmM-4-",
        "outputId": "48e39977-ac40-4437-c293-4aca395b0e0a"
      },
      "execution_count": 301,
      "outputs": [
        {
          "output_type": "stream",
          "name": "stdout",
          "text": [
            "[ 0.44513761 -1.13660221  0.13513688  1.484537   -1.07980489] 1\n"
          ]
        }
      ]
    },
    {
      "cell_type": "code",
      "source": [
        "def generate_data(size, dimension, f):\n",
        "\n",
        "    data = []\n",
        "    for i in range(size):\n",
        "        x = np.random.randn(dimension)\n",
        "        y = f(x)\n",
        "        datapoint = Data(x,y)\n",
        "        data.append(datapoint)\n",
        "    return data\n",
        "\n",
        "def f(x, lam = 1.0):\n",
        "    return np.exp(lam * np.sum(x)) / (1 + np.exp(lam * np.sum(x)))\n",
        "\n",
        "def g(x):\n",
        "    return math.floor(np.sum(x) % 3)"
      ],
      "metadata": {
        "id": "1wenw25eJans"
      },
      "execution_count": 302,
      "outputs": []
    },
    {
      "cell_type": "code",
      "source": [
        "SIZE = 1000\n",
        "DIMENSIONS = 1\n",
        "DEPTH = 5\n",
        "DEPTH_RANGE = np.arange(3,10,2)\n",
        "depth_to_error = {}\n",
        "\n",
        "data = generate_grid_data(5,5, goal = [2,2], num_x = 10, num_y = 10)\n",
        "n = Node(data, 0)\n",
        "t = Tree(n, DEPTH)\n",
        "t.build_tree()"
      ],
      "metadata": {
        "colab": {
          "base_uri": "https://localhost:8080/"
        },
        "id": "vW24bq76xDpi",
        "outputId": "504798e9-2dc4-4ee1-e125-7724233afada"
      },
      "execution_count": 303,
      "outputs": [
        {
          "output_type": "stream",
          "name": "stdout",
          "text": [
            "Left node is empty\n",
            "Tree pruned at 4\n",
            "Tree pruned at 4\n",
            "Left node is empty\n",
            "Tree pruned at 4\n",
            "Tree pruned at 4\n",
            "Left node is empty\n",
            "Tree pruned at 3\n",
            "Tree pruned at 3\n"
          ]
        }
      ]
    },
    {
      "cell_type": "code",
      "source": [
        "t.print_tree()"
      ],
      "metadata": {
        "colab": {
          "base_uri": "https://localhost:8080/"
        },
        "id": "bcXiSKd-4cUs",
        "outputId": "a1d40091-152c-40f0-b8c1-2eba3fa0511c"
      },
      "execution_count": 304,
      "outputs": [
        {
          "output_type": "stream",
          "name": "stdout",
          "text": [
            "0th dimension < 1.8421052631578947, depth 1, action 2.0\n",
            "Left node being printed\n",
            "1th dimension < 1.8421052631578947, depth 2, action 3.0\n",
            "Left node being printed\n",
            "1th dimension < 0.8333333333333334, depth 3, action 0.0\n",
            "Right node being printed\n",
            "1th dimension < 3.6111111111111116, depth 3, action 3.0\n",
            "Right node being printed\n",
            "1th dimension < 2.5, depth 2, action 2.0\n"
          ]
        }
      ]
    },
    {
      "cell_type": "code",
      "source": [
        "x_vals = [p.x for p in data]\n",
        "x_0 = [x[0] for x in x_vals]\n",
        "x_1 = [x[1] for x in x_vals]\n",
        "y_vals = [p.y for p in data]\n",
        "\n",
        "action_color_dict = {0:'red', 1:'blue', 2:'green', 3:'grey'}\n",
        "action_marker_dict = {0:'o', 1:'x', 2:'P', 3:'s'}\n",
        "plotted_markers = []\n",
        "plotted_colors = []\n",
        "color_bounds = [[-0.5,6],[-0.5,6]]\n",
        "\n",
        "fig, ax = plt.subplots()\n",
        "t.plot_splits_2D(ax, action_color_dict, plotted_colors=plotted_colors,\n",
        "                 color_bounds=color_bounds)\n",
        "\n",
        "for i in range(len(x_0)):\n",
        "    if action_marker_dict[y_vals[i]] not in plotted_markers:\n",
        "        plt.scatter(x_0[i], x_1[i], marker = action_marker_dict[y_vals[i]],\n",
        "                    label = f'Action = {y_vals[i]}',\n",
        "                    color = action_color_dict[y_vals[i]])\n",
        "        plotted_markers.append(action_marker_dict[y_vals[i]])\n",
        "\n",
        "    else:\n",
        "        plt.scatter(x_0[i], x_1[i], marker = action_marker_dict[y_vals[i]],\n",
        "                    color=action_color_dict[y_vals[i]])\n",
        "\n",
        "plt.legend()"
      ],
      "metadata": {
        "id": "3Q6PI0_0jEf_",
        "colab": {
          "base_uri": "https://localhost:8080/",
          "height": 574
        },
        "outputId": "8cf6d1dc-ece0-4c9f-f9a8-a8251260f777"
      },
      "execution_count": 305,
      "outputs": [
        {
          "output_type": "stream",
          "name": "stdout",
          "text": [
            "Plot partition line  x_1 = -0.5\n",
            "We color the horizontal region from -0.5 to 1.8421052631578947 from xmin=-0.5 to xmax = 1.8421052631578947 with 0.0 color\n",
            "Plot partition line  x_1 = 1.8421052631578947\n",
            "We color the horizontal region from 1.8421052631578947 to 6 from xmin=-0.5 to xmax = 1.8421052631578947 with 3.0 color\n",
            "Plot partition line $x_0 = 1.8421052631578947$\n",
            "We color the vertical region from 1.8421052631578947 to 6 from ymin=-0.5 to ymax = 6 with 2.0 color\n"
          ]
        },
        {
          "output_type": "execute_result",
          "data": {
            "text/plain": [
              "<matplotlib.legend.Legend at 0x7ec81cc7cd90>"
            ]
          },
          "metadata": {},
          "execution_count": 305
        },
        {
          "output_type": "display_data",
          "data": {
            "text/plain": [
              "<Figure size 640x480 with 1 Axes>"
            ],
            "image/png": "[encoded data removed]"
          },
          "metadata": {}
        }
      ]
    },
    {
      "cell_type": "code",
      "source": [
        "t.plot_tree_2D(0, 1, 2, 1.5, bounds = color_bounds)"
      ],
      "metadata": {
        "colab": {
          "base_uri": "https://localhost:8080/",
          "height": 434
        },
        "id": "QrcJ1QS8DAPo",
        "outputId": "b42094de-69b7-40d0-dd97-b13b6f883b66"
      },
      "execution_count": 306,
      "outputs": [
        {
          "output_type": "display_data",
          "data": {
            "text/plain": [
              "<Figure size 640x480 with 1 Axes>"
            ],
            "image/png": "[encoded data removed]"
          },
          "metadata": {}
        }
      ]
    },
    {
      "cell_type": "code",
      "source": [
        "SIZE = 100\n",
        "DIMENSIONS = 1\n",
        "DEPTH = 3\n",
        "DEPTH_RANGE = np.arange(3,10,2)\n",
        "depth_to_error = {}\n",
        "\n",
        "data = generate_data(SIZE, DIMENSIONS, g)\n",
        "n = Node(data, 0)\n",
        "\n",
        "for d in range(3,10,2):\n",
        "    t = Tree(n,d)\n",
        "    t.build_tree()\n",
        "    depth_to_error[d] = t.calculate_approximation_error()\n",
        "\n",
        "plt.plot(DEPTH_RANGE, [depth_to_error[d] for d in DEPTH_RANGE])\n",
        "plt.title('Error vs depth')\n",
        "plt.xlabel('Depth of tree')\n",
        "plt.ylabel('Error')\n",
        "plt.show()"
      ],
      "metadata": {
        "id": "xnRAw2b8_7-6",
        "colab": {
          "base_uri": "https://localhost:8080/",
          "height": 1000
        },
        "outputId": "192f5d27-3835-481c-f307-5f0e691c1e69"
      },
      "execution_count": 307,
      "outputs": [
        {
          "output_type": "stream",
          "name": "stdout",
          "text": [
            "Left node is empty\n",
            "Left node is empty\n",
            "Left node is empty\n",
            "Tree pruned at 4\n",
            "Tree pruned at 4\n",
            "Left node is empty\n",
            "Tree pruned at 4\n",
            "Tree pruned at 4\n",
            "Left node is empty\n",
            "Left node is empty\n",
            "Tree pruned at 5\n",
            "Tree pruned at 5\n",
            "Left node is empty\n",
            "Tree pruned at 5\n",
            "Tree pruned at 5\n",
            "Left node is empty\n",
            "Tree pruned at 4\n",
            "Tree pruned at 4\n",
            "Left node is empty\n",
            "Tree pruned at 4\n",
            "Tree pruned at 4\n",
            "Left node is empty\n",
            "Tree pruned at 6\n",
            "Tree pruned at 6\n",
            "Left node is empty\n",
            "Tree pruned at 6\n",
            "Tree pruned at 6\n",
            "Left node is empty\n",
            "Tree pruned at 5\n",
            "Tree pruned at 5\n",
            "Left node is empty\n",
            "Tree pruned at 5\n",
            "Tree pruned at 5\n",
            "Left node is empty\n",
            "Tree pruned at 5\n",
            "Tree pruned at 5\n",
            "Left node is empty\n",
            "Tree pruned at 4\n",
            "Tree pruned at 4\n",
            "Left node is empty\n",
            "Tree pruned at 4\n",
            "Tree pruned at 4\n",
            "Left node is empty\n",
            "Tree pruned at 6\n",
            "Tree pruned at 6\n",
            "Left node is empty\n",
            "Tree pruned at 6\n",
            "Tree pruned at 6\n",
            "Left node is empty\n",
            "Tree pruned at 5\n",
            "Tree pruned at 5\n"
          ]
        },
        {
          "output_type": "display_data",
          "data": {
            "text/plain": [
              "<Figure size 640x480 with 1 Axes>"
            ],
            "image/png": "[encoded data removed]"
          },
          "metadata": {}
        }
      ]
    },
    {
      "cell_type": "code",
      "source": [
        "import numpy as np\n",
        "\n",
        "class BloodGlucoseEnvironment:\n",
        "    def __init__(self, num_states=30, actions=[0, 1, 2], discount_factor=0.8):\n",
        "        self.num_states = num_states\n",
        "        self.actions = actions\n",
        "        self.discount_factor = discount_factor\n",
        "        self.T = self._compute_transition_probabilities()\n",
        "        self.R = self._compute_rewards()\n",
        "\n",
        "    def _compute_transition_probabilities(self):\n",
        "        T = np.zeros((self.num_states, len(self.actions), self.num_states))\n",
        "        for s in range(self.num_states):\n",
        "            for a in self.actions:\n",
        "                if a == 0:\n",
        "                    for t in range(min(s + 10, self.num_states)):\n",
        "                        T[s, a, t] = 0.7 / min(s + 10, self.num_states)\n",
        "                    for t in range(s + 1):\n",
        "                        T[s, a, t] += 0.3 / (s + 1)\n",
        "                elif a == 1:\n",
        "                    for t in range(min(s + 5, self.num_states)):\n",
        "                        T[s, a, t] = 0.3 / min(s + 5, self.num_states)\n",
        "                    for t in range(s + 1):\n",
        "                        T[s, a, t] += 0.7 / (s + 1)\n",
        "                elif a == 2:\n",
        "                    for t in range(s + 1):\n",
        "                        T[s, a, t] = 1.0 / (s + 1)\n",
        "        return T\n",
        "\n",
        "    def _compute_rewards(self):\n",
        "        R = np.zeros((self.num_states, len(self.actions), self.num_states))\n",
        "        for s in range(self.num_states):\n",
        "            for a in self.actions:\n",
        "                for t in range(self.num_states):\n",
        "                    R[s, a, t] = 1.5 / (abs((s / 29) - (a / 2)) + 1) + np.abs(s/29 - a/2)/20\n",
        "        return R\n",
        "\n",
        "    def step(self, state, action):\n",
        "        next_state = np.random.choice(self.num_states, p=self.T[state, action])\n",
        "        reward = self.R[state, action, next_state]\n",
        "        return next_state, reward\n",
        "\n",
        "    def get_transition_probabilities(self):\n",
        "        return self.T\n",
        "\n",
        "    def get_rewards(self):\n",
        "        return self.R\n"
      ],
      "metadata": {
        "id": "92xnHzyXxEFc"
      },
      "execution_count": null,
      "outputs": []
    },
    {
      "cell_type": "code",
      "source": [
        "def policy_iteration(env, num_iterations=20000):\n",
        "    policy = np.zeros(env.num_states, dtype=int)  # Initialize policy arbitrarily\n",
        "    V = np.zeros(env.num_states)  # Initialize value function\n",
        "    gamma = env.discount_factor\n",
        "\n",
        "    for _ in range(num_iterations):\n",
        "        # Policy evaluation\n",
        "        for s in range(env.num_states):\n",
        "            action = policy[s]\n",
        "            next_state, reward = env.step(s, action)\n",
        "            V[s] = reward + gamma * V[next_state]\n",
        "\n",
        "        # Policy improvement\n",
        "        new_policy = np.zeros(env.num_states, dtype=int)\n",
        "        for s in range(env.num_states):\n",
        "            best_action = None\n",
        "            best_value = float('-inf')\n",
        "            for a in env.actions:\n",
        "                next_state, reward = env.step(s, a)\n",
        "                value = reward + gamma * V[next_state]\n",
        "                if value > best_value:\n",
        "                    best_value = value\n",
        "                    best_action = a\n",
        "            new_policy[s] = best_action\n",
        "        if np.array_equal(new_policy, policy):\n",
        "            break\n",
        "        policy = new_policy\n",
        "\n",
        "    return policy, V\n",
        "\n",
        "# Create the environment\n",
        "env = BloodGlucoseEnvironment()\n",
        "\n",
        "# Find the optimal policy\n",
        "optimal_policy, optimal_values = policy_iteration(env)\n",
        "\n",
        "print(\"Optimal Policy:\")\n",
        "print(optimal_policy)\n",
        "print(\"Optimal Values:\")\n",
        "print(optimal_values)\n"
      ],
      "metadata": {
        "colab": {
          "base_uri": "https://localhost:8080/"
        },
        "id": "FeA8D7epNlBJ",
        "outputId": "dbcdc756-4d14-4170-cad4-54efabcfb75d"
      },
      "execution_count": null,
      "outputs": [
        {
          "output_type": "stream",
          "name": "stdout",
          "text": [
            "Optimal Policy:\n",
            "[0 0 0 0 0 0 0 0 1 1 1 1 1 1 1 1 1 1 1 1 1 2 2 2 2 2 2 2 2 2]\n",
            "Optimal Values:\n",
            "[6.73206738 6.6822192  6.79232799 6.7984098  6.57128985 6.5042564\n",
            " 6.44530933 6.54910877 6.43996413 6.61612768 6.5455531  6.50074349\n",
            " 6.53723403 6.58078702 6.97740806 6.70610511 6.75752219 6.82399057\n",
            " 6.77835841 6.53605331 6.67637008 6.39006357 6.42380742 6.6758887\n",
            " 6.52731947 6.56633105 6.5651422  6.65973893 6.89045198 6.90601775]\n"
          ]
        }
      ]
    },
    {
      "cell_type": "code",
      "source": [
        "def make_list_into_function(l):\n",
        "\n",
        "    def functor(num):\n",
        "\n",
        "        if (num >= len(l)) or (num < 0):\n",
        "            return 0\n",
        "        else:\n",
        "            return l[num]\n",
        "\n",
        "    return functor\n",
        "\n",
        "\n",
        "optimal_function = make_list_into_function(optimal_policy)"
      ],
      "metadata": {
        "id": "3KlU2gsNN1hd"
      },
      "execution_count": null,
      "outputs": []
    },
    {
      "cell_type": "code",
      "source": [
        "data =  [Data(np.array([i]), y) for i,y in enumerate(optimal_policy)]\n",
        "n = Node(data, 0, split_range=5)\n",
        "t = Tree(n, DEPTH)\n",
        "t.build_tree()\n",
        "print(t.print_tree())"
      ],
      "metadata": {
        "colab": {
          "base_uri": "https://localhost:8080/"
        },
        "id": "zrjRLrMtRtf1",
        "outputId": "02232749-3e05-4465-e002-b5133b3bfcaf"
      },
      "execution_count": null,
      "outputs": [
        {
          "output_type": "stream",
          "name": "stdout",
          "text": [
            "0th dimension < 7.25, depth 1, action 1.0\n",
            "0th dimension < 0.3684210526315789, depth 2, action 0.0\n",
            "0th dimension < 0.0, depth 3, action 0.0\n",
            "0th dimension < 4.0, depth 3, action 0.0\n",
            "0th dimension < 20.157894736842106, depth 2, action 1.0\n",
            "0th dimension < 14.0, depth 3, action 1.0\n",
            "0th dimension < 25.0, depth 3, action 2.0\n",
            "None\n"
          ]
        }
      ]
    },
    {
      "cell_type": "code",
      "source": [
        "x_vals = [p.x for p in data]\n",
        "y_vals = [p.y for p in data]\n",
        "action_color_dict = {0:'red', 1:'blue', 2:'green'}\n",
        "\n",
        "fig, ax = plt.subplots()\n",
        "t.plot_splits(ax, action_color_dict, color_bounds=[-1,31], plotted_colors = [])\n",
        "ax.scatter(x_vals, y_vals, marker = '*',color='black')\n",
        "\n",
        "red_patch = mpatches.Patch(color='red', label='None')\n",
        "blue_patch = mpatches.Patch(color='blue', label='Bolus')\n",
        "green_patch = mpatches.Patch(color='green', label='Bolus+Basal')\n",
        "\n",
        "ax.legend(handles=[red_patch, blue_patch, green_patch])"
      ],
      "metadata": {
        "colab": {
          "base_uri": "https://localhost:8080/",
          "height": 539
        },
        "id": "QLd1PH1eWJTh",
        "outputId": "8618bcbb-0aca-473a-8a04-bd686a24fefb"
      },
      "execution_count": null,
      "outputs": [
        {
          "output_type": "stream",
          "name": "stdout",
          "text": [
            "Plot partition line $x=-1$\n",
            "Plot partition line $x=0.3684210526315789$\n",
            "Plot partition line $x=7.25$\n",
            "Plot partition line $x=20.157894736842106$\n"
          ]
        },
        {
          "output_type": "execute_result",
          "data": {
            "text/plain": [
              "<matplotlib.legend.Legend at 0x7d1a72ba1330>"
            ]
          },
          "metadata": {},
          "execution_count": 240
        },
        {
          "output_type": "display_data",
          "data": {
            "text/plain": [
              "<Figure size 640x480 with 1 Axes>"
            ],
            "image/png": "[encoded data removed]"
          },
          "metadata": {}
        }
      ]
    },
    {
      "cell_type": "code",
      "source": [
        "t.plot_tree(0, 1, 2, 1.5, bounds = [-1,31])"
      ],
      "metadata": {
        "colab": {
          "base_uri": "https://localhost:8080/",
          "height": 430
        },
        "id": "AgXNcuvQWKI9",
        "outputId": "7654e23d-4dfa-4ba3-f54b-0f436c36a11f"
      },
      "execution_count": null,
      "outputs": [
        {
          "output_type": "display_data",
          "data": {
            "text/plain": [
              "<Figure size 640x480 with 1 Axes>"
            ],
            "image/png": "[encoded data removed]"
          },
          "metadata": {}
        }
      ]
    },
    {
      "cell_type": "code",
      "source": [
        "split_ranges = [5, 10, 15, 20, 25, 30]\n",
        "#split_to_color = {5:'red', 1}\n",
        "\n",
        "for s in split_ranges:\n",
        "\n",
        "    n = Node(data, 0, s)\n",
        "    for d in range(2,8):\n",
        "        t = Tree(n,d)\n",
        "        t.build_tree()\n",
        "        depth_to_error[d] = t.calculate_approximation_error()\n",
        "\n",
        "    plt.plot(range(2,8), [depth_to_error[d] for d in range(2,8)], label = f'Split value: {s}')\n",
        "\n",
        "plt.title('Error vs depth')\n",
        "plt.xlabel('Depth of tree')\n",
        "plt.ylabel('Error')\n",
        "plt.legend()\n",
        "plt.show()"
      ],
      "metadata": {
        "id": "usDE3JKkWWEW"
      },
      "execution_count": null,
      "outputs": []
    }
  ]
}